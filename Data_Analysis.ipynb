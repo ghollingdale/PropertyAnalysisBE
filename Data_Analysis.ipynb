{
 "cells": [
  {
   "cell_type": "code",
   "execution_count": 19,
   "metadata": {},
   "outputs": [],
   "source": [
    "# Import modules\n",
    "import numpy as np\n",
    "import pandas as pd\n",
    "import matplotlib.pyplot as plt"
   ]
  },
  {
   "cell_type": "code",
   "execution_count": 2,
   "metadata": {},
   "outputs": [
    {
     "data": {
      "text/html": [
       "<div>\n",
       "<style scoped>\n",
       "    .dataframe tbody tr th:only-of-type {\n",
       "        vertical-align: middle;\n",
       "    }\n",
       "\n",
       "    .dataframe tbody tr th {\n",
       "        vertical-align: top;\n",
       "    }\n",
       "\n",
       "    .dataframe thead th {\n",
       "        text-align: right;\n",
       "    }\n",
       "</style>\n",
       "<table border=\"1\" class=\"dataframe\">\n",
       "  <thead>\n",
       "    <tr style=\"text-align: right;\">\n",
       "      <th></th>\n",
       "      <th>id</th>\n",
       "      <th>type of property</th>\n",
       "      <th>subtype of property</th>\n",
       "      <th>province</th>\n",
       "      <th>locality</th>\n",
       "      <th>postalCode</th>\n",
       "      <th>price</th>\n",
       "      <th>number of bedrooms</th>\n",
       "      <th>living area</th>\n",
       "      <th>fully equipped kitchen</th>\n",
       "      <th>...</th>\n",
       "      <th>open fire</th>\n",
       "      <th>terrace</th>\n",
       "      <th>terrace area</th>\n",
       "      <th>garden</th>\n",
       "      <th>garden area</th>\n",
       "      <th>total property area</th>\n",
       "      <th>total land area</th>\n",
       "      <th>number of facades</th>\n",
       "      <th>swimming pool</th>\n",
       "      <th>state of the building</th>\n",
       "    </tr>\n",
       "  </thead>\n",
       "  <tbody>\n",
       "    <tr>\n",
       "      <th>0</th>\n",
       "      <td>10640355</td>\n",
       "      <td>APARTMENT</td>\n",
       "      <td>APARTMENT</td>\n",
       "      <td>Brussels</td>\n",
       "      <td>Bruxelles</td>\n",
       "      <td>1000</td>\n",
       "      <td>310000</td>\n",
       "      <td>1</td>\n",
       "      <td>35</td>\n",
       "      <td>1</td>\n",
       "      <td>...</td>\n",
       "      <td>0</td>\n",
       "      <td>x</td>\n",
       "      <td>x</td>\n",
       "      <td>x</td>\n",
       "      <td>x</td>\n",
       "      <td>69</td>\n",
       "      <td>0</td>\n",
       "      <td>2</td>\n",
       "      <td>0</td>\n",
       "      <td>just_renovated</td>\n",
       "    </tr>\n",
       "    <tr>\n",
       "      <th>1</th>\n",
       "      <td>10183530</td>\n",
       "      <td>APARTMENT</td>\n",
       "      <td>APARTMENT</td>\n",
       "      <td>Brussels</td>\n",
       "      <td>Brussels City</td>\n",
       "      <td>1000</td>\n",
       "      <td>375000</td>\n",
       "      <td>2</td>\n",
       "      <td>0</td>\n",
       "      <td>1</td>\n",
       "      <td>...</td>\n",
       "      <td>0</td>\n",
       "      <td>1</td>\n",
       "      <td>25</td>\n",
       "      <td>x</td>\n",
       "      <td>x</td>\n",
       "      <td>95</td>\n",
       "      <td>0</td>\n",
       "      <td>2</td>\n",
       "      <td>0</td>\n",
       "      <td>good</td>\n",
       "    </tr>\n",
       "    <tr>\n",
       "      <th>2</th>\n",
       "      <td>10070305</td>\n",
       "      <td>APARTMENT</td>\n",
       "      <td>FLAT_STUDIO</td>\n",
       "      <td>Brussels</td>\n",
       "      <td>Bruxelles</td>\n",
       "      <td>1000</td>\n",
       "      <td>385000</td>\n",
       "      <td>0</td>\n",
       "      <td>0</td>\n",
       "      <td>1</td>\n",
       "      <td>...</td>\n",
       "      <td>0</td>\n",
       "      <td>x</td>\n",
       "      <td>x</td>\n",
       "      <td>x</td>\n",
       "      <td>x</td>\n",
       "      <td>55</td>\n",
       "      <td>0</td>\n",
       "      <td>2</td>\n",
       "      <td>0</td>\n",
       "      <td>as_new</td>\n",
       "    </tr>\n",
       "    <tr>\n",
       "      <th>3</th>\n",
       "      <td>10614932</td>\n",
       "      <td>APARTMENT</td>\n",
       "      <td>APARTMENT</td>\n",
       "      <td>Brussels</td>\n",
       "      <td>Brussels City</td>\n",
       "      <td>1000</td>\n",
       "      <td>395000</td>\n",
       "      <td>2</td>\n",
       "      <td>0</td>\n",
       "      <td>1</td>\n",
       "      <td>...</td>\n",
       "      <td>1</td>\n",
       "      <td>1</td>\n",
       "      <td>4</td>\n",
       "      <td>x</td>\n",
       "      <td>x</td>\n",
       "      <td>92</td>\n",
       "      <td>0</td>\n",
       "      <td>x</td>\n",
       "      <td>0</td>\n",
       "      <td>good</td>\n",
       "    </tr>\n",
       "    <tr>\n",
       "      <th>4</th>\n",
       "      <td>10662541</td>\n",
       "      <td>APARTMENT</td>\n",
       "      <td>DUPLEX</td>\n",
       "      <td>Brussels</td>\n",
       "      <td>Bruxelles</td>\n",
       "      <td>1000</td>\n",
       "      <td>249000</td>\n",
       "      <td>1</td>\n",
       "      <td>30</td>\n",
       "      <td>1</td>\n",
       "      <td>...</td>\n",
       "      <td>0</td>\n",
       "      <td>x</td>\n",
       "      <td>x</td>\n",
       "      <td>x</td>\n",
       "      <td>x</td>\n",
       "      <td>90</td>\n",
       "      <td>0</td>\n",
       "      <td>2</td>\n",
       "      <td>0</td>\n",
       "      <td>good</td>\n",
       "    </tr>\n",
       "  </tbody>\n",
       "</table>\n",
       "<p>5 rows × 21 columns</p>\n",
       "</div>"
      ],
      "text/plain": [
       "         id type of property subtype of property  province       locality  \\\n",
       "0  10640355        APARTMENT           APARTMENT  Brussels      Bruxelles   \n",
       "1  10183530        APARTMENT           APARTMENT  Brussels  Brussels City   \n",
       "2  10070305        APARTMENT         FLAT_STUDIO  Brussels      Bruxelles   \n",
       "3  10614932        APARTMENT           APARTMENT  Brussels  Brussels City   \n",
       "4  10662541        APARTMENT              DUPLEX  Brussels      Bruxelles   \n",
       "\n",
       "   postalCode   price  number of bedrooms  living area fully equipped kitchen  \\\n",
       "0        1000  310000                   1           35                      1   \n",
       "1        1000  375000                   2            0                      1   \n",
       "2        1000  385000                   0            0                      1   \n",
       "3        1000  395000                   2            0                      1   \n",
       "4        1000  249000                   1           30                      1   \n",
       "\n",
       "   ... open fire  terrace terrace area garden garden area total property area  \\\n",
       "0  ...         0        x            x      x           x                  69   \n",
       "1  ...         0        1           25      x           x                  95   \n",
       "2  ...         0        x            x      x           x                  55   \n",
       "3  ...         1        1            4      x           x                  92   \n",
       "4  ...         0        x            x      x           x                  90   \n",
       "\n",
       "  total land area number of facades swimming pool  state of the building  \n",
       "0               0                 2             0         just_renovated  \n",
       "1               0                 2             0                   good  \n",
       "2               0                 2             0                 as_new  \n",
       "3               0                 x             0                   good  \n",
       "4               0                 2             0                   good  \n",
       "\n",
       "[5 rows x 21 columns]"
      ]
     },
     "execution_count": 2,
     "metadata": {},
     "output_type": "execute_result"
    }
   ],
   "source": [
    "properties = pd.read_csv('cleaned_output_x.csv')\n",
    "properties.head()"
   ]
  },
  {
   "cell_type": "code",
   "execution_count": 3,
   "metadata": {},
   "outputs": [
    {
     "name": "stdout",
     "output_type": "stream",
     "text": [
      "The data set consists of 11992 rows and 21 columns.\n"
     ]
    }
   ],
   "source": [
    "# What are the dimensions of my data set?\n",
    "shape = properties.shape\n",
    "print(\"The data set consists of \" + str(shape[0]) + \" rows and \" + str(shape[1]) + \" columns.\")"
   ]
  },
  {
   "cell_type": "code",
   "execution_count": 4,
   "metadata": {},
   "outputs": [
    {
     "name": "stdout",
     "output_type": "stream",
     "text": [
      "Total quantity of missing data per column \n",
      "\n",
      "id: 0\n",
      "type of property: 0\n",
      "subtype of property: 0\n",
      "province: 0\n",
      "locality: 0\n",
      "postalCode: 0\n",
      "price: 0\n",
      "number of bedrooms: 0\n",
      "living area: 0\n",
      "fully equipped kitchen: 2223\n",
      "furnished: 5830\n",
      "open fire: 0\n",
      "terrace: 3515\n",
      "terrace area: 6635\n",
      "garden: 7599\n",
      "garden area: 9076\n",
      "total property area: 297\n",
      "total land area: 2718\n",
      "number of facades: 2659\n",
      "swimming pool: 0\n",
      "state of the building: 0\n"
     ]
    }
   ],
   "source": [
    "# What is the quantity of 'x' per column?\n",
    "missing_value_quantities = {}\n",
    "print('Total quantity of missing data per column \\n')\n",
    "for column in properties.columns:\n",
    "    count = (properties[column] == 'x').sum()\n",
    "    missing_value_quantities[column] = count\n",
    "    print(str(column) +': ' + str(missing_value_quantities[column]))"
   ]
  },
  {
   "attachments": {},
   "cell_type": "markdown",
   "metadata": {},
   "source": [
    "From this output I can deduce that it would not be feasible to use the *entire* Dataset to analyse the following attritutes:\n",
    "* furnished\n",
    "* terrace\n",
    "* terrace area\n",
    "* garden\n",
    "* garden area\n",
    "* total land area\n",
    "* number of facades\n",
    "* swimming pool\n",
    "\n",
    "Since at least 20% of the properties are missing data for these.\n",
    "\n",
    "And, I can deduce that using:\n",
    "* total property area\n",
    "\n",
    "Will also carry risk since over 2% of the data is missing this information.\n",
    "\n",
    "Therefore, when analysing an attritube, I will discard the rows with that do not contain data for that attritube.\n",
    "* e.g. if I want to see the average price per property square meter, I will discard the 297 rows that are missing total property area data and use the remaining 11,695\n"
   ]
  },
  {
   "cell_type": "markdown",
   "metadata": {},
   "source": [
    "First of all I'd like to see if there is any correlation between the price of a proeprty, and the variables. For each column I will calculate the price with an attribute, or without an attribute, and see the difference. "
   ]
  },
  {
   "cell_type": "code",
   "execution_count": 63,
   "metadata": {},
   "outputs": [
    {
     "data": {
      "text/plain": [
       "45360000"
      ]
     },
     "execution_count": 63,
     "metadata": {},
     "output_type": "execute_result"
    }
   ],
   "source": [
    "a = 45356234\n",
    "round(a, -4)"
   ]
  },
  {
   "cell_type": "code",
   "execution_count": 91,
   "metadata": {},
   "outputs": [
    {
     "name": "stdout",
     "output_type": "stream",
     "text": [
      "{'Apartment': 455609, 'House': 594283}\n",
      "[456000, 594000]\n"
     ]
    },
    {
     "data": {
      "image/png": "[encoded data removed]",
      "text/plain": [
       "<Figure size 640x480 with 1 Axes>"
      ]
     },
     "metadata": {},
     "output_type": "display_data"
    }
   ],
   "source": [
    "# Type of property House vs. appartment\n",
    "\n",
    "apartment_average = properties[properties['type of property'] == 'APARTMENT']['price'].mean()\n",
    "apartment_average = int(apartment_average)\n",
    "\n",
    "house_average = properties[properties['type of property'] == 'HOUSE']['price'].mean()\n",
    "house_average = int(house_average)\n",
    "\n",
    "average_price = {}\n",
    "average_price['Apartment'] = apartment_average\n",
    "average_price['House'] = house_average\n",
    "print(average_price)\n",
    "\n",
    "price_keys = list(average_price.keys())\n",
    "price_values = list(average_price.values())\n",
    "\n",
    "\n",
    "\n",
    "for price in range(len(price_values)):\n",
    "    rounded = round(price_values[price], -3)\n",
    "    price_values[price] = rounded\n",
    "print(price_values)\n",
    "\n",
    "bar_colors = ['tab:red', 'tab:blue']\n",
    "plt.bar(price_keys, price_values, width = 0.4, color = bar_colors)\n",
    "plt.title('Average price per property type in Belgium \\n')\n",
    "plt.xlabel('\\nProperty type')\n",
    "plt.ylabel('Price in (€) \\n')\n",
    "plt.bar_label(plt.bar(average_price.keys(), price_values))\n",
    "plt.yticks([100000, 200000 , 300000 , 400000 , 500000 , 600000] , ['100k' , '200k' , '300k' , '400k' , '500k' , '600k'])\n",
    "plt.show()\n"
   ]
  }
 ],
 "metadata": {
  "kernelspec": {
   "display_name": "PropertyAnalysisBE",
   "language": "python",
   "name": "python3"
  },
  "language_info": {
   "codemirror_mode": {
    "name": "ipython",
    "version": 3
   },
   "file_extension": ".py",
   "mimetype": "text/x-python",
   "name": "python",
   "nbconvert_exporter": "python",
   "pygments_lexer": "ipython3",
   "version": "3.11.4"
  },
  "orig_nbformat": 4
 },
 "nbformat": 4,
 "nbformat_minor": 2
}
