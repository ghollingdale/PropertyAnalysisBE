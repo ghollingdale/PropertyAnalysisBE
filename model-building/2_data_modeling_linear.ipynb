{
 "cells": [
  {
   "cell_type": "code",
   "execution_count": 1,
   "metadata": {},
   "outputs": [
    {
     "data": {
      "text/html": [
       "<div>\n",
       "<style scoped>\n",
       "    .dataframe tbody tr th:only-of-type {\n",
       "        vertical-align: middle;\n",
       "    }\n",
       "\n",
       "    .dataframe tbody tr th {\n",
       "        vertical-align: top;\n",
       "    }\n",
       "\n",
       "    .dataframe thead th {\n",
       "        text-align: right;\n",
       "    }\n",
       "</style>\n",
       "<table border=\"1\" class=\"dataframe\">\n",
       "  <thead>\n",
       "    <tr style=\"text-align: right;\">\n",
       "      <th></th>\n",
       "      <th>id</th>\n",
       "      <th>type_of_property</th>\n",
       "      <th>subtype_of_property</th>\n",
       "      <th>province</th>\n",
       "      <th>locality</th>\n",
       "      <th>postalCode</th>\n",
       "      <th>price</th>\n",
       "      <th>number_of_bedrooms</th>\n",
       "      <th>living_area</th>\n",
       "      <th>fully_equipped_kitchen</th>\n",
       "      <th>...</th>\n",
       "      <th>open_fire</th>\n",
       "      <th>terrace</th>\n",
       "      <th>terrace_area</th>\n",
       "      <th>garden</th>\n",
       "      <th>garden_area</th>\n",
       "      <th>total_property_area</th>\n",
       "      <th>total_land_area</th>\n",
       "      <th>number_of_facades</th>\n",
       "      <th>swimming_pool</th>\n",
       "      <th>state_of_the_building</th>\n",
       "    </tr>\n",
       "  </thead>\n",
       "  <tbody>\n",
       "    <tr>\n",
       "      <th>0</th>\n",
       "      <td>10559233.0</td>\n",
       "      <td>HOUSE</td>\n",
       "      <td>HOUSE</td>\n",
       "      <td>Flemish Brabant</td>\n",
       "      <td>ZICHEM</td>\n",
       "      <td>3271.0</td>\n",
       "      <td>350000.0</td>\n",
       "      <td>3.0</td>\n",
       "      <td>0.0</td>\n",
       "      <td>1.0</td>\n",
       "      <td>...</td>\n",
       "      <td>1.0</td>\n",
       "      <td>1.0</td>\n",
       "      <td>25.0</td>\n",
       "      <td>1.0</td>\n",
       "      <td>0.0</td>\n",
       "      <td>140.0</td>\n",
       "      <td>2590.0</td>\n",
       "      <td>4.0</td>\n",
       "      <td>0.0</td>\n",
       "      <td>0</td>\n",
       "    </tr>\n",
       "    <tr>\n",
       "      <th>1</th>\n",
       "      <td>10673158.0</td>\n",
       "      <td>HOUSE</td>\n",
       "      <td>HOUSE</td>\n",
       "      <td>Antwerp</td>\n",
       "      <td>Nijlen</td>\n",
       "      <td>2560.0</td>\n",
       "      <td>389000.0</td>\n",
       "      <td>3.0</td>\n",
       "      <td>0.0</td>\n",
       "      <td>1.0</td>\n",
       "      <td>...</td>\n",
       "      <td>0.0</td>\n",
       "      <td>1.0</td>\n",
       "      <td>40.0</td>\n",
       "      <td>1.0</td>\n",
       "      <td>260.0</td>\n",
       "      <td>160.0</td>\n",
       "      <td>570.0</td>\n",
       "      <td>4.0</td>\n",
       "      <td>0.0</td>\n",
       "      <td>1</td>\n",
       "    </tr>\n",
       "    <tr>\n",
       "      <th>2</th>\n",
       "      <td>10470833.0</td>\n",
       "      <td>HOUSE</td>\n",
       "      <td>HOUSE</td>\n",
       "      <td>West Flanders</td>\n",
       "      <td>Oudenburg</td>\n",
       "      <td>8460.0</td>\n",
       "      <td>389000.0</td>\n",
       "      <td>3.0</td>\n",
       "      <td>0.0</td>\n",
       "      <td>1.0</td>\n",
       "      <td>...</td>\n",
       "      <td>1.0</td>\n",
       "      <td>0.0</td>\n",
       "      <td>0.0</td>\n",
       "      <td>0.0</td>\n",
       "      <td>0.0</td>\n",
       "      <td>133.0</td>\n",
       "      <td>347.0</td>\n",
       "      <td>3.0</td>\n",
       "      <td>0.0</td>\n",
       "      <td>1</td>\n",
       "    </tr>\n",
       "    <tr>\n",
       "      <th>3</th>\n",
       "      <td>10560493.0</td>\n",
       "      <td>HOUSE</td>\n",
       "      <td>HOUSE</td>\n",
       "      <td>West Flanders</td>\n",
       "      <td>Brugge</td>\n",
       "      <td>8000.0</td>\n",
       "      <td>389000.0</td>\n",
       "      <td>6.0</td>\n",
       "      <td>0.0</td>\n",
       "      <td>1.0</td>\n",
       "      <td>...</td>\n",
       "      <td>0.0</td>\n",
       "      <td>1.0</td>\n",
       "      <td>0.0</td>\n",
       "      <td>1.0</td>\n",
       "      <td>119.0</td>\n",
       "      <td>210.0</td>\n",
       "      <td>220.0</td>\n",
       "      <td>2.0</td>\n",
       "      <td>0.0</td>\n",
       "      <td>0</td>\n",
       "    </tr>\n",
       "    <tr>\n",
       "      <th>4</th>\n",
       "      <td>10452028.0</td>\n",
       "      <td>HOUSE</td>\n",
       "      <td>HOUSE</td>\n",
       "      <td>West Flanders</td>\n",
       "      <td>Blankenberge</td>\n",
       "      <td>8370.0</td>\n",
       "      <td>389000.0</td>\n",
       "      <td>3.0</td>\n",
       "      <td>0.0</td>\n",
       "      <td>1.0</td>\n",
       "      <td>...</td>\n",
       "      <td>1.0</td>\n",
       "      <td>1.0</td>\n",
       "      <td>17.0</td>\n",
       "      <td>0.0</td>\n",
       "      <td>0.0</td>\n",
       "      <td>222.0</td>\n",
       "      <td>111.0</td>\n",
       "      <td>2.0</td>\n",
       "      <td>0.0</td>\n",
       "      <td>1</td>\n",
       "    </tr>\n",
       "  </tbody>\n",
       "</table>\n",
       "<p>5 rows × 21 columns</p>\n",
       "</div>"
      ],
      "text/plain": [
       "           id type_of_property subtype_of_property         province  \\\n",
       "0  10559233.0            HOUSE               HOUSE  Flemish Brabant   \n",
       "1  10673158.0            HOUSE               HOUSE          Antwerp   \n",
       "2  10470833.0            HOUSE               HOUSE    West Flanders   \n",
       "3  10560493.0            HOUSE               HOUSE    West Flanders   \n",
       "4  10452028.0            HOUSE               HOUSE    West Flanders   \n",
       "\n",
       "       locality  postalCode     price  number_of_bedrooms  living_area  \\\n",
       "0        ZICHEM      3271.0  350000.0                 3.0          0.0   \n",
       "1        Nijlen      2560.0  389000.0                 3.0          0.0   \n",
       "2     Oudenburg      8460.0  389000.0                 3.0          0.0   \n",
       "3        Brugge      8000.0  389000.0                 6.0          0.0   \n",
       "4  Blankenberge      8370.0  389000.0                 3.0          0.0   \n",
       "\n",
       "   fully_equipped_kitchen  ...  open_fire  terrace  terrace_area  garden  \\\n",
       "0                     1.0  ...        1.0      1.0          25.0     1.0   \n",
       "1                     1.0  ...        0.0      1.0          40.0     1.0   \n",
       "2                     1.0  ...        1.0      0.0           0.0     0.0   \n",
       "3                     1.0  ...        0.0      1.0           0.0     1.0   \n",
       "4                     1.0  ...        1.0      1.0          17.0     0.0   \n",
       "\n",
       "   garden_area  total_property_area  total_land_area  number_of_facades  \\\n",
       "0          0.0                140.0           2590.0                4.0   \n",
       "1        260.0                160.0            570.0                4.0   \n",
       "2          0.0                133.0            347.0                3.0   \n",
       "3        119.0                210.0            220.0                2.0   \n",
       "4          0.0                222.0            111.0                2.0   \n",
       "\n",
       "   swimming_pool  state_of_the_building  \n",
       "0            0.0                      0  \n",
       "1            0.0                      1  \n",
       "2            0.0                      1  \n",
       "3            0.0                      0  \n",
       "4            0.0                      1  \n",
       "\n",
       "[5 rows x 21 columns]"
      ]
     },
     "execution_count": 1,
     "metadata": {},
     "output_type": "execute_result"
    }
   ],
   "source": [
    "# Autoload module updates\n",
    "%load_ext autoreload\n",
    "%autoreload 2\n",
    "\n",
    "# Import modules\n",
    "import numpy as np\n",
    "import pandas as pd\n",
    "import sklearn\n",
    "import sys\n",
    "sys.path.insert(0, '../')\n",
    "import src.cleanup as cleanup\n",
    "properties = pd.read_csv('..\\data\\cleaned_output_modeling.csv', skip_blank_lines=True)\n",
    "properties.head()"
   ]
  },
  {
   "cell_type": "code",
   "execution_count": 2,
   "metadata": {},
   "outputs": [
    {
     "data": {
      "text/plain": [
       "array([ 350000.,  389000.,  389000., ...,  249900., 1400000.,  645000.])"
      ]
     },
     "metadata": {},
     "output_type": "display_data"
    }
   ],
   "source": [
    "# Convert properties to a numpy dataframe\n",
    "properties = cleanup.drop_column(properties, ['type_of_property', 'subtype_of_property', 'province', 'locality', 'postalCode'])\n",
    "X = properties.drop(columns=['price']).to_numpy()\n",
    "y = properties['price'].to_numpy()\n",
    "display(y)"
   ]
  },
  {
   "cell_type": "code",
   "execution_count": 3,
   "metadata": {},
   "outputs": [],
   "source": [
    "# Import train_test_split\n",
    "# Apply train_test_split to dataframe\n",
    "\n",
    "from sklearn.model_selection import train_test_split\n",
    "X_train, X_test, y_train, y_test = train_test_split(X, y, test_size=0.2, random_state=133)"
   ]
  },
  {
   "cell_type": "code",
   "execution_count": 4,
   "metadata": {},
   "outputs": [
    {
     "name": "stdout",
     "output_type": "stream",
     "text": [
      "The score of the training set is 0.49580437496172947\n",
      "The score of the testing set is 0.5054518823436795\n"
     ]
    }
   ],
   "source": [
    "from sklearn.linear_model import LinearRegression\n",
    "regressor = LinearRegression()\n",
    "regressor.fit(X_train, y_train)\n",
    "print(\"The score of the training set is\", regressor.score(X_train, y_train))\n",
    "print(\"The score of the testing set is\", regressor.score(X_test, y_test))"
   ]
  },
  {
   "cell_type": "markdown",
   "metadata": {},
   "source": [
    "Below, I clean the data set of outliers."
   ]
  },
  {
   "cell_type": "code",
   "execution_count": 5,
   "metadata": {},
   "outputs": [
    {
     "name": "stdout",
     "output_type": "stream",
     "text": [
      "There were 201 properties with a price value of more than 2000000 that have been removed.\n",
      "There were 19 properties with a number_of_bedrooms value of more than 10 that have been removed.\n",
      "There were 16 properties with a living_area value of more than 100 that have been removed.\n",
      "There were 20 properties with a total_property_area value of more than 750 that have been removed.\n",
      "There were 19 properties with a total_land_area value of more than 20000 that have been removed.\n",
      "There were 7 properties with a terrace_area value of more than 250 that have been removed.\n",
      "There were 3 properties with a number_of_facades value of more than 4 that have been removed.\n"
     ]
    }
   ],
   "source": [
    "# Manually clean outliers\n",
    "# Set removal count to zero. Each clean will sum the amount of removed rows into removal_count\n",
    "\n",
    "\n",
    "properties = cleanup.clean_outliers(properties)"
   ]
  },
  {
   "cell_type": "code",
   "execution_count": 6,
   "metadata": {},
   "outputs": [
    {
     "data": {
      "text/plain": [
       "array([ 350000.,  389000.,  389000., ...,  990000., 1590000., 1250000.])"
      ]
     },
     "metadata": {},
     "output_type": "display_data"
    }
   ],
   "source": [
    "# Convert properties to a numpy dataframe\n",
    "X = properties.drop(columns=['price']).to_numpy()\n",
    "y = properties['price'].to_numpy()\n",
    "display(y)"
   ]
  },
  {
   "cell_type": "code",
   "execution_count": 7,
   "metadata": {},
   "outputs": [],
   "source": [
    "# Import train_test_split\n",
    "# Apply train_test_split to dataframe\n",
    "\n",
    "from sklearn.model_selection import train_test_split\n",
    "X_train, X_test, y_train, y_test = train_test_split(X, y, test_size=0.2, random_state=133)"
   ]
  },
  {
   "cell_type": "code",
   "execution_count": 8,
   "metadata": {},
   "outputs": [
    {
     "name": "stdout",
     "output_type": "stream",
     "text": [
      "The score of the training set is 0.5098442931343585\n",
      "The score of the testing set is 0.4525606291381028\n"
     ]
    }
   ],
   "source": [
    "# Fit and score model\n",
    "\n",
    "from sklearn.linear_model import LinearRegression\n",
    "regressor = LinearRegression()\n",
    "regressor.fit(X_train, y_train)\n",
    "print(\"The score of the training set is\", regressor.score(X_train, y_train))\n",
    "print(\"The score of the testing set is\", regressor.score(X_test, y_test))"
   ]
  },
  {
   "cell_type": "code",
   "execution_count": 9,
   "metadata": {},
   "outputs": [],
   "source": [
    "# Predictor\n",
    "y_pred = regressor.predict(X_test)"
   ]
  },
  {
   "cell_type": "code",
   "execution_count": 10,
   "metadata": {},
   "outputs": [
    {
     "name": "stdout",
     "output_type": "stream",
     "text": [
      "[-1.46359776e-01  1.72944195e+04  1.01570732e+03  1.08028000e+05\n",
      "  8.11050144e+04 -4.61754172e+04  4.12248368e+04  4.09198834e+02\n",
      " -4.55890674e+04 -1.56682110e+00  1.75814069e+03  8.98780408e+00\n",
      "  7.60426910e+03  1.15650383e+05  4.65051373e+04]\n",
      "1469050.6709826186\n"
     ]
    }
   ],
   "source": [
    "# Check regressor coefficients\n",
    "coefficients= regressor.coef_\n",
    "print(coefficients)\n",
    "# Check regressor intercept\n",
    "intercept = regressor.intercept_\n",
    "print(intercept)"
   ]
  },
  {
   "cell_type": "code",
   "execution_count": 11,
   "metadata": {},
   "outputs": [
    {
     "name": "stdout",
     "output_type": "stream",
     "text": [
      "[3.48116527e+12 2.45556436e+06 7.71697072e+06 1.79788857e+06\n",
      " 1.46905067e+06 1.46905067e+06 1.79788857e+06 9.68999810e+06\n",
      " 1.79788857e+06 1.46905067e+06 4.25737878e+07 9.68320408e+07\n",
      " 2.12672647e+06 1.46905067e+06 1.46905067e+06]\n",
      "342305.90976845566\n"
     ]
    },
    {
     "data": {
      "text/html": [
       "<div>\n",
       "<style scoped>\n",
       "    .dataframe tbody tr th:only-of-type {\n",
       "        vertical-align: middle;\n",
       "    }\n",
       "\n",
       "    .dataframe tbody tr th {\n",
       "        vertical-align: top;\n",
       "    }\n",
       "\n",
       "    .dataframe thead th {\n",
       "        text-align: right;\n",
       "    }\n",
       "</style>\n",
       "<table border=\"1\" class=\"dataframe\">\n",
       "  <thead>\n",
       "    <tr style=\"text-align: right;\">\n",
       "      <th></th>\n",
       "      <th>id</th>\n",
       "      <th>price</th>\n",
       "      <th>number_of_bedrooms</th>\n",
       "      <th>living_area</th>\n",
       "      <th>fully_equipped_kitchen</th>\n",
       "      <th>furnished</th>\n",
       "      <th>open_fire</th>\n",
       "      <th>terrace</th>\n",
       "      <th>terrace_area</th>\n",
       "      <th>garden</th>\n",
       "      <th>garden_area</th>\n",
       "      <th>total_property_area</th>\n",
       "      <th>total_land_area</th>\n",
       "      <th>number_of_facades</th>\n",
       "      <th>swimming_pool</th>\n",
       "      <th>state_of_the_building</th>\n",
       "    </tr>\n",
       "  </thead>\n",
       "  <tbody>\n",
       "    <tr>\n",
       "      <th>0</th>\n",
       "      <td>10559233.0</td>\n",
       "      <td>350000.0</td>\n",
       "      <td>3.0</td>\n",
       "      <td>0.0</td>\n",
       "      <td>1.0</td>\n",
       "      <td>0.0</td>\n",
       "      <td>1.0</td>\n",
       "      <td>1.0</td>\n",
       "      <td>25.0</td>\n",
       "      <td>1.0</td>\n",
       "      <td>0.0</td>\n",
       "      <td>140.0</td>\n",
       "      <td>2590.0</td>\n",
       "      <td>4.0</td>\n",
       "      <td>0.0</td>\n",
       "      <td>0</td>\n",
       "    </tr>\n",
       "    <tr>\n",
       "      <th>1</th>\n",
       "      <td>10673158.0</td>\n",
       "      <td>389000.0</td>\n",
       "      <td>3.0</td>\n",
       "      <td>0.0</td>\n",
       "      <td>1.0</td>\n",
       "      <td>0.0</td>\n",
       "      <td>0.0</td>\n",
       "      <td>1.0</td>\n",
       "      <td>40.0</td>\n",
       "      <td>1.0</td>\n",
       "      <td>260.0</td>\n",
       "      <td>160.0</td>\n",
       "      <td>570.0</td>\n",
       "      <td>4.0</td>\n",
       "      <td>0.0</td>\n",
       "      <td>1</td>\n",
       "    </tr>\n",
       "    <tr>\n",
       "      <th>2</th>\n",
       "      <td>10470833.0</td>\n",
       "      <td>389000.0</td>\n",
       "      <td>3.0</td>\n",
       "      <td>0.0</td>\n",
       "      <td>1.0</td>\n",
       "      <td>0.0</td>\n",
       "      <td>1.0</td>\n",
       "      <td>0.0</td>\n",
       "      <td>0.0</td>\n",
       "      <td>0.0</td>\n",
       "      <td>0.0</td>\n",
       "      <td>133.0</td>\n",
       "      <td>347.0</td>\n",
       "      <td>3.0</td>\n",
       "      <td>0.0</td>\n",
       "      <td>1</td>\n",
       "    </tr>\n",
       "    <tr>\n",
       "      <th>3</th>\n",
       "      <td>10560493.0</td>\n",
       "      <td>389000.0</td>\n",
       "      <td>6.0</td>\n",
       "      <td>0.0</td>\n",
       "      <td>1.0</td>\n",
       "      <td>0.0</td>\n",
       "      <td>0.0</td>\n",
       "      <td>1.0</td>\n",
       "      <td>0.0</td>\n",
       "      <td>1.0</td>\n",
       "      <td>119.0</td>\n",
       "      <td>210.0</td>\n",
       "      <td>220.0</td>\n",
       "      <td>2.0</td>\n",
       "      <td>0.0</td>\n",
       "      <td>0</td>\n",
       "    </tr>\n",
       "    <tr>\n",
       "      <th>4</th>\n",
       "      <td>10452028.0</td>\n",
       "      <td>389000.0</td>\n",
       "      <td>3.0</td>\n",
       "      <td>0.0</td>\n",
       "      <td>1.0</td>\n",
       "      <td>1.0</td>\n",
       "      <td>1.0</td>\n",
       "      <td>1.0</td>\n",
       "      <td>17.0</td>\n",
       "      <td>0.0</td>\n",
       "      <td>0.0</td>\n",
       "      <td>222.0</td>\n",
       "      <td>111.0</td>\n",
       "      <td>2.0</td>\n",
       "      <td>0.0</td>\n",
       "      <td>1</td>\n",
       "    </tr>\n",
       "  </tbody>\n",
       "</table>\n",
       "</div>"
      ],
      "text/plain": [
       "           id     price  number_of_bedrooms  living_area  \\\n",
       "0  10559233.0  350000.0                 3.0          0.0   \n",
       "1  10673158.0  389000.0                 3.0          0.0   \n",
       "2  10470833.0  389000.0                 3.0          0.0   \n",
       "3  10560493.0  389000.0                 6.0          0.0   \n",
       "4  10452028.0  389000.0                 3.0          0.0   \n",
       "\n",
       "   fully_equipped_kitchen  furnished  open_fire  terrace  terrace_area  \\\n",
       "0                     1.0        0.0        1.0      1.0          25.0   \n",
       "1                     1.0        0.0        0.0      1.0          40.0   \n",
       "2                     1.0        0.0        1.0      0.0           0.0   \n",
       "3                     1.0        0.0        0.0      1.0           0.0   \n",
       "4                     1.0        1.0        1.0      1.0          17.0   \n",
       "\n",
       "   garden  garden_area  total_property_area  total_land_area  \\\n",
       "0     1.0          0.0                140.0           2590.0   \n",
       "1     1.0        260.0                160.0            570.0   \n",
       "2     0.0          0.0                133.0            347.0   \n",
       "3     1.0        119.0                210.0            220.0   \n",
       "4     0.0          0.0                222.0            111.0   \n",
       "\n",
       "   number_of_facades  swimming_pool  state_of_the_building  \n",
       "0                4.0            0.0                      0  \n",
       "1                4.0            0.0                      1  \n",
       "2                3.0            0.0                      1  \n",
       "3                2.0            0.0                      0  \n",
       "4                2.0            0.0                      1  "
      ]
     },
     "execution_count": 11,
     "metadata": {},
     "output_type": "execute_result"
    }
   ],
   "source": [
    "# Manually create first prediction\n",
    "print((X_test[0])*coefficients.sum()+ intercept)\n",
    "\n",
    "# Check model's first prediction to compare vs. previous output\n",
    "print(y_pred[0])\n",
    "properties.head()"
   ]
  },
  {
   "cell_type": "code",
   "execution_count": 12,
   "metadata": {},
   "outputs": [],
   "source": [
    "# Drop 'living area' from dataframe\n",
    "properties = cleanup.drop_column(properties, 'living_area')"
   ]
  },
  {
   "cell_type": "code",
   "execution_count": 13,
   "metadata": {},
   "outputs": [
    {
     "name": "stdout",
     "output_type": "stream",
     "text": [
      "The score of the training set is 0.5063590773629773\n",
      "The score of the testing set is 0.4513471350686433\n"
     ]
    }
   ],
   "source": [
    "# Redo and score the model\n",
    "X = properties.drop(columns=['price']).to_numpy()\n",
    "y = properties['price'].to_numpy()\n",
    "X_train, X_test, y_train, y_test = train_test_split(X, y, test_size=0.2, random_state=133)\n",
    "regressor.fit(X_train, y_train)\n",
    "print(\"The score of the training set is\", regressor.score(X_train, y_train))\n",
    "print(\"The score of the testing set is\", regressor.score(X_test, y_test))"
   ]
  }
 ],
 "metadata": {
  "kernelspec": {
   "display_name": "PropertyAnalysisBE",
   "language": "python",
   "name": "python3"
  },
  "language_info": {
   "codemirror_mode": {
    "name": "ipython",
    "version": 3
   },
   "file_extension": ".py",
   "mimetype": "text/x-python",
   "name": "python",
   "nbconvert_exporter": "python",
   "pygments_lexer": "ipython3",
   "version": "3.11.4"
  },
  "orig_nbformat": 4
 },
 "nbformat": 4,
 "nbformat_minor": 2
}
