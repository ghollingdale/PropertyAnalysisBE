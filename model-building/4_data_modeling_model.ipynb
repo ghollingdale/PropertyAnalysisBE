{
 "cells": [
  {
   "cell_type": "markdown",
   "metadata": {},
   "source": [
    "# Final selected model\n",
    "This file contains the final model selected to be used for predicted a house price. It uses `sklearn`'s `DecisionTreeRegressor()` from notebook 3."
   ]
  },
  {
   "cell_type": "code",
   "execution_count": 6,
   "metadata": {},
   "outputs": [
    {
     "name": "stdout",
     "output_type": "stream",
     "text": [
      "The autoreload extension is already loaded. To reload it, use:\n",
      "  %reload_ext autoreload\n"
     ]
    }
   ],
   "source": [
    "# Autoload module updates\n",
    "%load_ext autoreload\n",
    "%autoreload 2\n",
    "\n",
    "# Import modules\n",
    "import numpy as np\n",
    "import pandas as pd\n",
    "import sklearn\n",
    "import sys\n",
    "sys.path.insert(0, '../')\n",
    "import src.cleanup as cleanup\n",
    "properties = pd.read_csv('..\\data\\cleaned_output_modeling.csv', skip_blank_lines=True)"
   ]
  },
  {
   "cell_type": "code",
   "execution_count": 7,
   "metadata": {},
   "outputs": [
    {
     "name": "stdout",
     "output_type": "stream",
     "text": [
      "There are 6347 rows before cleaning.\n",
      "There were 201 properties with a price value of more than 2000000 that have been removed.\n",
      "There were 19 properties with a number_of_bedrooms value of more than 10 that have been removed.\n",
      "There were 16 properties with a living_area value of more than 100 that have been removed.\n",
      "There were 20 properties with a total_property_area value of more than 750 that have been removed.\n",
      "There were 19 properties with a total_land_area value of more than 20000 that have been removed.\n",
      "There were 7 properties with a terrace_area value of more than 250 that have been removed.\n",
      "There were 3 properties with a number_of_facades value of more than 4 that have been removed.\n",
      "There are 3804 rows after cleaning.\n",
      "\n",
      "{'max_depth': 6, 'min_weight_fraction_leaf': 0.006}\n",
      "The score of the training set is 0.6056829209020435\n",
      "The score of the testing set is 0.5751440641192962\n"
     ]
    }
   ],
   "source": [
    "# Import modules\n",
    "from sklearn.tree import DecisionTreeRegressor\n",
    "from sklearn.metrics import mean_squared_error\n",
    "from sklearn.model_selection import train_test_split\n",
    "\n",
    "\n",
    "\n",
    "# Define houses df & subsets\n",
    "houses = properties #[properties['type of property'] == 'HOUSE']\n",
    "print(\"There are\", houses.shape[0], \"rows before cleaning.\")\n",
    "houses = cleanup.clean_outliers(houses)\n",
    "houses = cleanup.drop_column(houses, ['id', 'type_of_property', 'subtype_of_property', 'province', 'locality', 'postalCode'])\n",
    "houses = cleanup.drop_column(houses, ['garden_area', 'terrace_area','number_of_facades','open_fire'])\n",
    "# Remove all properties missing a living area\n",
    "houses = houses[houses['living_area'] != 0]\n",
    "\n",
    "print(\"There are\", houses.shape[0], \"rows after cleaning.\\n\")\n",
    "X = cleanup.drop_column(houses, 'price').to_numpy()\n",
    "y = houses['price'].to_numpy()\n",
    "\n",
    "#Split data\n",
    "X_train, X_test, y_train, y_test = train_test_split(X, y, test_size=0.25)\n",
    "\n",
    "\n",
    "# With GridsearchCV\n",
    "from sklearn.model_selection import GridSearchCV\n",
    "regressor = DecisionTreeRegressor()\n",
    "params = {'max_depth': [ 4, 6, 8, 10, 12], 'min_weight_fraction_leaf': [0.002, 0.003, 0.0035, 0.004, 0.0045, 0.006]}\n",
    "grid_search = GridSearchCV(regressor, params, cv=10)\n",
    "grid_search.fit(X_train, y_train)\n",
    "best_params = grid_search.best_params_\n",
    "regressor = DecisionTreeRegressor(max_depth=best_params['max_depth'], min_weight_fraction_leaf=best_params['min_weight_fraction_leaf'])\n",
    "print(best_params)\n",
    "regressor.fit(X_train, y_train)\n",
    "print(\"The score of the training set is\", regressor.score(X_train, y_train))\n",
    "print(\"The score of the testing set is\", regressor.score(X_test, y_test))"
   ]
  },
  {
   "cell_type": "code",
   "execution_count": 8,
   "metadata": {},
   "outputs": [
    {
     "name": "stdout",
     "output_type": "stream",
     "text": [
      "For the test data the model predicts a mean average house price of 464329.48 €.\n",
      "\n",
      "For a house with:\n",
      "\n",
      " 4  bedrooms\n",
      " 80 m² of living space\n",
      " A fully equipped kitchen\n",
      " Comes unfurnished\n",
      " Has a terrace\n",
      " Has a garden\n",
      " 180 m² property space\n",
      " 230 m² land\n",
      " No swimming pool\n",
      " Comes renovated\n",
      "\n",
      " The model predicts a price of:  790846.15 €.\n"
     ]
    }
   ],
   "source": [
    "# Predictor\n",
    "\n",
    "y_pred = regressor.predict(X_test)\n",
    "print(\"For the test data the model predicts a mean average house price of\", round(y_pred.mean(),2), \"€.\\n\")\n",
    "\n",
    "data = [4, 80, 1, 0, 1, 1, 180, 230, 0, 1]\n",
    "prediction_1 = round(regressor.predict([data])[0], 2)\n",
    "print(\n",
    "    \"For a house with:\\n\\n\",\n",
    "    data[0], \" bedrooms\\n\",\n",
    "    data[1], \"m² of living space\\n\",\n",
    "    \"A fully equipped kitchen\\n\",\n",
    "    \"Comes unfurnished\\n\",\n",
    "    \"Has a terrace\\n\",\n",
    "    \"Has a garden\\n\",\n",
    "    data[6], \"m² property space\\n\",\n",
    "    data[7], \"m² land\\n\", \n",
    "    \"No swimming pool\\n\",\n",
    "    \"Comes renovated\\n\\n\",\n",
    "    \"The model predicts a price of: \", prediction_1 ,\"€.\"\n",
    "    )"
   ]
  },
  {
   "cell_type": "code",
   "execution_count": 9,
   "metadata": {},
   "outputs": [],
   "source": [
    "import pickle\n",
    "pickle_out = open(\"../data/model.pkl\", \"wb\")\n",
    "pickle.dump(regressor, pickle_out)\n",
    "pickle_out.close()\n"
   ]
  },
  {
   "cell_type": "code",
   "execution_count": 10,
   "metadata": {},
   "outputs": [
    {
     "data": {
      "text/html": [
       "<div>\n",
       "<style scoped>\n",
       "    .dataframe tbody tr th:only-of-type {\n",
       "        vertical-align: middle;\n",
       "    }\n",
       "\n",
       "    .dataframe tbody tr th {\n",
       "        vertical-align: top;\n",
       "    }\n",
       "\n",
       "    .dataframe thead th {\n",
       "        text-align: right;\n",
       "    }\n",
       "</style>\n",
       "<table border=\"1\" class=\"dataframe\">\n",
       "  <thead>\n",
       "    <tr style=\"text-align: right;\">\n",
       "      <th></th>\n",
       "      <th>price</th>\n",
       "      <th>number_of_bedrooms</th>\n",
       "      <th>living_area</th>\n",
       "      <th>fully_equipped_kitchen</th>\n",
       "      <th>furnished</th>\n",
       "      <th>terrace</th>\n",
       "      <th>garden</th>\n",
       "      <th>total_property_area</th>\n",
       "      <th>total_land_area</th>\n",
       "      <th>swimming_pool</th>\n",
       "      <th>state_of_the_building</th>\n",
       "    </tr>\n",
       "  </thead>\n",
       "  <tbody>\n",
       "    <tr>\n",
       "      <th>2397</th>\n",
       "      <td>750000.0</td>\n",
       "      <td>6.0</td>\n",
       "      <td>1.0</td>\n",
       "      <td>0.0</td>\n",
       "      <td>0.0</td>\n",
       "      <td>1.0</td>\n",
       "      <td>1.0</td>\n",
       "      <td>513.0</td>\n",
       "      <td>415.0</td>\n",
       "      <td>0.0</td>\n",
       "      <td>0</td>\n",
       "    </tr>\n",
       "    <tr>\n",
       "      <th>2398</th>\n",
       "      <td>1390000.0</td>\n",
       "      <td>3.0</td>\n",
       "      <td>1.0</td>\n",
       "      <td>1.0</td>\n",
       "      <td>0.0</td>\n",
       "      <td>1.0</td>\n",
       "      <td>0.0</td>\n",
       "      <td>153.0</td>\n",
       "      <td>0.0</td>\n",
       "      <td>0.0</td>\n",
       "      <td>1</td>\n",
       "    </tr>\n",
       "    <tr>\n",
       "      <th>2399</th>\n",
       "      <td>670000.0</td>\n",
       "      <td>4.0</td>\n",
       "      <td>1.0</td>\n",
       "      <td>1.0</td>\n",
       "      <td>0.0</td>\n",
       "      <td>1.0</td>\n",
       "      <td>1.0</td>\n",
       "      <td>189.0</td>\n",
       "      <td>0.0</td>\n",
       "      <td>0.0</td>\n",
       "      <td>1</td>\n",
       "    </tr>\n",
       "  </tbody>\n",
       "</table>\n",
       "</div>"
      ],
      "text/plain": [
       "          price  number_of_bedrooms  living_area  fully_equipped_kitchen  \\\n",
       "2397   750000.0                 6.0          1.0                     0.0   \n",
       "2398  1390000.0                 3.0          1.0                     1.0   \n",
       "2399   670000.0                 4.0          1.0                     1.0   \n",
       "\n",
       "      furnished  terrace  garden  total_property_area  total_land_area  \\\n",
       "2397        0.0      1.0     1.0                513.0            415.0   \n",
       "2398        0.0      1.0     0.0                153.0              0.0   \n",
       "2399        0.0      1.0     1.0                189.0              0.0   \n",
       "\n",
       "      swimming_pool  state_of_the_building  \n",
       "2397            0.0                      0  \n",
       "2398            0.0                      1  \n",
       "2399            0.0                      1  "
      ]
     },
     "execution_count": 10,
     "metadata": {},
     "output_type": "execute_result"
    }
   ],
   "source": [
    "houses.head(3)"
   ]
  },
  {
   "cell_type": "code",
   "execution_count": 11,
   "metadata": {},
   "outputs": [],
   "source": [
    "from pydantic import BaseModel\n",
    "\n",
    "class propmodel(BaseModel):\n",
    "    price: float\n",
    "    number_of_bedrooms: float\n",
    "    living_area: float\n",
    "    fully_equipped_kitchen: float\n",
    "    furnished: float\n",
    "    terrace: float\n",
    "    garden: float\n",
    "    total_property_area: float\n",
    "    total_land_area: float\n",
    "    swimming_pool: float\n",
    "    state_of_the_building: float"
   ]
  }
 ],
 "metadata": {
  "kernelspec": {
   "display_name": "PropertyAnalysisBE",
   "language": "python",
   "name": "python3"
  },
  "language_info": {
   "codemirror_mode": {
    "name": "ipython",
    "version": 3
   },
   "file_extension": ".py",
   "mimetype": "text/x-python",
   "name": "python",
   "nbconvert_exporter": "python",
   "pygments_lexer": "ipython3",
   "version": "3.11.4"
  },
  "orig_nbformat": 4
 },
 "nbformat": 4,
 "nbformat_minor": 2
}
