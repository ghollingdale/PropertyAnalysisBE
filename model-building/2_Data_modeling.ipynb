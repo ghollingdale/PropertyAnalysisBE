{
 "cells": [
  {
   "cell_type": "code",
   "execution_count": 15,
   "metadata": {},
   "outputs": [
    {
     "name": "stdout",
     "output_type": "stream",
     "text": [
      "The autoreload extension is already loaded. To reload it, use:\n",
      "  %reload_ext autoreload\n"
     ]
    },
    {
     "data": {
      "text/html": [
       "<div>\n",
       "<style scoped>\n",
       "    .dataframe tbody tr th:only-of-type {\n",
       "        vertical-align: middle;\n",
       "    }\n",
       "\n",
       "    .dataframe tbody tr th {\n",
       "        vertical-align: top;\n",
       "    }\n",
       "\n",
       "    .dataframe thead th {\n",
       "        text-align: right;\n",
       "    }\n",
       "</style>\n",
       "<table border=\"1\" class=\"dataframe\">\n",
       "  <thead>\n",
       "    <tr style=\"text-align: right;\">\n",
       "      <th></th>\n",
       "      <th>type of property</th>\n",
       "      <th>subtype of property</th>\n",
       "      <th>province</th>\n",
       "      <th>locality</th>\n",
       "      <th>postalCode</th>\n",
       "      <th>price</th>\n",
       "      <th>number of bedrooms</th>\n",
       "      <th>living area</th>\n",
       "      <th>fully equipped kitchen</th>\n",
       "      <th>furnished</th>\n",
       "      <th>open fire</th>\n",
       "      <th>terrace</th>\n",
       "      <th>terrace area</th>\n",
       "      <th>garden</th>\n",
       "      <th>garden area</th>\n",
       "      <th>total property area</th>\n",
       "      <th>total land area</th>\n",
       "      <th>number of facades</th>\n",
       "      <th>swimming pool</th>\n",
       "      <th>state of the building</th>\n",
       "    </tr>\n",
       "  </thead>\n",
       "  <tbody>\n",
       "    <tr>\n",
       "      <th>0</th>\n",
       "      <td>HOUSE</td>\n",
       "      <td>HOUSE</td>\n",
       "      <td>Flemish Brabant</td>\n",
       "      <td>ZICHEM</td>\n",
       "      <td>3271.0</td>\n",
       "      <td>350000.0</td>\n",
       "      <td>3</td>\n",
       "      <td>0</td>\n",
       "      <td>1.0</td>\n",
       "      <td>0.0</td>\n",
       "      <td>1</td>\n",
       "      <td>1.0</td>\n",
       "      <td>25.0</td>\n",
       "      <td>1.0</td>\n",
       "      <td>0.0</td>\n",
       "      <td>140.0</td>\n",
       "      <td>2590.0</td>\n",
       "      <td>4.0</td>\n",
       "      <td>0</td>\n",
       "      <td>0</td>\n",
       "    </tr>\n",
       "    <tr>\n",
       "      <th>1</th>\n",
       "      <td>HOUSE</td>\n",
       "      <td>HOUSE</td>\n",
       "      <td>Antwerp</td>\n",
       "      <td>Nijlen</td>\n",
       "      <td>2560.0</td>\n",
       "      <td>389000.0</td>\n",
       "      <td>3</td>\n",
       "      <td>0</td>\n",
       "      <td>1.0</td>\n",
       "      <td>0.0</td>\n",
       "      <td>0</td>\n",
       "      <td>1.0</td>\n",
       "      <td>40.0</td>\n",
       "      <td>1.0</td>\n",
       "      <td>260.0</td>\n",
       "      <td>160.0</td>\n",
       "      <td>570.0</td>\n",
       "      <td>4.0</td>\n",
       "      <td>0</td>\n",
       "      <td>1</td>\n",
       "    </tr>\n",
       "    <tr>\n",
       "      <th>2</th>\n",
       "      <td>HOUSE</td>\n",
       "      <td>HOUSE</td>\n",
       "      <td>West Flanders</td>\n",
       "      <td>Oudenburg</td>\n",
       "      <td>8460.0</td>\n",
       "      <td>389000.0</td>\n",
       "      <td>3</td>\n",
       "      <td>0</td>\n",
       "      <td>1.0</td>\n",
       "      <td>0.0</td>\n",
       "      <td>1</td>\n",
       "      <td>0.0</td>\n",
       "      <td>0.0</td>\n",
       "      <td>0.0</td>\n",
       "      <td>0.0</td>\n",
       "      <td>133.0</td>\n",
       "      <td>347.0</td>\n",
       "      <td>3.0</td>\n",
       "      <td>0</td>\n",
       "      <td>1</td>\n",
       "    </tr>\n",
       "    <tr>\n",
       "      <th>3</th>\n",
       "      <td>HOUSE</td>\n",
       "      <td>HOUSE</td>\n",
       "      <td>West Flanders</td>\n",
       "      <td>Brugge</td>\n",
       "      <td>8000.0</td>\n",
       "      <td>389000.0</td>\n",
       "      <td>6</td>\n",
       "      <td>0</td>\n",
       "      <td>1.0</td>\n",
       "      <td>0.0</td>\n",
       "      <td>0</td>\n",
       "      <td>1.0</td>\n",
       "      <td>0.0</td>\n",
       "      <td>1.0</td>\n",
       "      <td>119.0</td>\n",
       "      <td>210.0</td>\n",
       "      <td>220.0</td>\n",
       "      <td>2.0</td>\n",
       "      <td>0</td>\n",
       "      <td>0</td>\n",
       "    </tr>\n",
       "    <tr>\n",
       "      <th>4</th>\n",
       "      <td>HOUSE</td>\n",
       "      <td>HOUSE</td>\n",
       "      <td>West Flanders</td>\n",
       "      <td>Blankenberge</td>\n",
       "      <td>8370.0</td>\n",
       "      <td>389000.0</td>\n",
       "      <td>3</td>\n",
       "      <td>0</td>\n",
       "      <td>1.0</td>\n",
       "      <td>1.0</td>\n",
       "      <td>1</td>\n",
       "      <td>1.0</td>\n",
       "      <td>17.0</td>\n",
       "      <td>0.0</td>\n",
       "      <td>0.0</td>\n",
       "      <td>222.0</td>\n",
       "      <td>111.0</td>\n",
       "      <td>2.0</td>\n",
       "      <td>0</td>\n",
       "      <td>1</td>\n",
       "    </tr>\n",
       "  </tbody>\n",
       "</table>\n",
       "</div>"
      ],
      "text/plain": [
       "  type of property subtype of property         province      locality  \\\n",
       "0            HOUSE               HOUSE  Flemish Brabant        ZICHEM   \n",
       "1            HOUSE               HOUSE          Antwerp        Nijlen   \n",
       "2            HOUSE               HOUSE    West Flanders     Oudenburg   \n",
       "3            HOUSE               HOUSE    West Flanders        Brugge   \n",
       "4            HOUSE               HOUSE    West Flanders  Blankenberge   \n",
       "\n",
       "   postalCode     price  number of bedrooms  living area  \\\n",
       "0      3271.0  350000.0                   3            0   \n",
       "1      2560.0  389000.0                   3            0   \n",
       "2      8460.0  389000.0                   3            0   \n",
       "3      8000.0  389000.0                   6            0   \n",
       "4      8370.0  389000.0                   3            0   \n",
       "\n",
       "   fully equipped kitchen  furnished  open fire  terrace  terrace area  \\\n",
       "0                     1.0        0.0          1      1.0          25.0   \n",
       "1                     1.0        0.0          0      1.0          40.0   \n",
       "2                     1.0        0.0          1      0.0           0.0   \n",
       "3                     1.0        0.0          0      1.0           0.0   \n",
       "4                     1.0        1.0          1      1.0          17.0   \n",
       "\n",
       "   garden  garden area  total property area  total land area  \\\n",
       "0     1.0          0.0                140.0           2590.0   \n",
       "1     1.0        260.0                160.0            570.0   \n",
       "2     0.0          0.0                133.0            347.0   \n",
       "3     1.0        119.0                210.0            220.0   \n",
       "4     0.0          0.0                222.0            111.0   \n",
       "\n",
       "   number of facades  swimming pool  state of the building  \n",
       "0                4.0              0                      0  \n",
       "1                4.0              0                      1  \n",
       "2                3.0              0                      1  \n",
       "3                2.0              0                      0  \n",
       "4                2.0              0                      1  "
      ]
     },
     "execution_count": 15,
     "metadata": {},
     "output_type": "execute_result"
    }
   ],
   "source": [
    "# Autoload module updates\n",
    "%load_ext autoreload\n",
    "%autoreload 2\n",
    "\n",
    "# Import modules\n",
    "import numpy as np\n",
    "import pandas as pd\n",
    "import sklearn\n",
    "import sys\n",
    "sys.path.insert(0, '../')\n",
    "import src.cleanupoutliers as cleanoutliers\n",
    "properties = pd.read_csv('..\\data\\cleaned_output_2.csv', skip_blank_lines=True)\n",
    "properties.head()"
   ]
  },
  {
   "cell_type": "code",
   "execution_count": 16,
   "metadata": {},
   "outputs": [
    {
     "data": {
      "text/plain": [
       "array([ 350000.,  389000.,  389000., ...,  249900., 1400000.,  645000.])"
      ]
     },
     "metadata": {},
     "output_type": "display_data"
    }
   ],
   "source": [
    "# Convert properties to a numpy dataframe\n",
    "properties = cleanup.drop_column(properties, ['type of property', 'subtype of property', 'province', 'locality', 'postalCode'])\n",
    "X = properties.drop(columns=['price']).to_numpy()\n",
    "y = properties['price'].to_numpy()\n",
    "display(y)"
   ]
  },
  {
   "cell_type": "code",
   "execution_count": 17,
   "metadata": {},
   "outputs": [],
   "source": [
    "# Import train_test_split\n",
    "# Apply train_test_split to dataframe\n",
    "\n",
    "from sklearn.model_selection import train_test_split\n",
    "X_train, X_test, y_train, y_test = train_test_split(X, y, test_size=0.2, random_state=133)"
   ]
  },
  {
   "cell_type": "code",
   "execution_count": 18,
   "metadata": {},
   "outputs": [
    {
     "name": "stdout",
     "output_type": "stream",
     "text": [
      "The score of the training set is 0.49018313487705845\n",
      "The score of the testing set is 0.49399055847565665\n"
     ]
    }
   ],
   "source": [
    "from sklearn.linear_model import LinearRegression\n",
    "regressor = LinearRegression()\n",
    "regressor.fit(X_train, y_train)\n",
    "print(\"The score of the training set is\", regressor.score(X_train, y_train))\n",
    "print(\"The score of the testing set is\", regressor.score(X_test, y_test))"
   ]
  },
  {
   "cell_type": "markdown",
   "metadata": {},
   "source": [
    "Below, I clean the data set of outliers."
   ]
  },
  {
   "cell_type": "code",
   "execution_count": 19,
   "metadata": {},
   "outputs": [
    {
     "name": "stdout",
     "output_type": "stream",
     "text": [
      "There are 201 properties with a value of more than 2,000,000€\n",
      "There are 19 properties with more than 10 bedrooms.\n",
      "There are 16 properties with a living area greater than 100sqm.\n",
      "There are 20 properties with a total property area greater than 750sqm.\n",
      "There are 19 properties with a total property land greater than 20000sqm.\n",
      "There are 7 properties with a terrace area greater than 250sqm.\n",
      "There are 3 properties with more than 4 facades.\n",
      "\n",
      "285 outliers have been removed from the dataframe in total.\n"
     ]
    }
   ],
   "source": [
    "# Manually clean outliers\n",
    "# Set removal count to zero. Each clean will sum the amount of removed rows into removal_count\n",
    "\n",
    "\n",
    "properties = cleanoutliers.clean_outliers(properties)"
   ]
  },
  {
   "cell_type": "code",
   "execution_count": 20,
   "metadata": {},
   "outputs": [
    {
     "data": {
      "text/plain": [
       "array([ 350000.,  389000.,  389000., ...,  990000., 1590000., 1250000.])"
      ]
     },
     "metadata": {},
     "output_type": "display_data"
    }
   ],
   "source": [
    "# Convert properties to a numpy dataframe\n",
    "X = properties.drop(columns=['price']).to_numpy()\n",
    "y = properties['price'].to_numpy()\n",
    "display(y)"
   ]
  },
  {
   "cell_type": "code",
   "execution_count": 21,
   "metadata": {},
   "outputs": [],
   "source": [
    "# Import train_test_split\n",
    "# Apply train_test_split to dataframe\n",
    "\n",
    "from sklearn.model_selection import train_test_split\n",
    "X_train, X_test, y_train, y_test = train_test_split(X, y, test_size=0.2, random_state=133)"
   ]
  },
  {
   "cell_type": "code",
   "execution_count": 22,
   "metadata": {},
   "outputs": [
    {
     "name": "stdout",
     "output_type": "stream",
     "text": [
      "The score of the training set is 0.5033384000303467\n",
      "The score of the testing set is 0.4491667230295061\n"
     ]
    }
   ],
   "source": [
    "# Fit and score model\n",
    "\n",
    "from sklearn.linear_model import LinearRegression\n",
    "regressor = LinearRegression()\n",
    "regressor.fit(X_train, y_train)\n",
    "print(\"The score of the training set is\", regressor.score(X_train, y_train))\n",
    "print(\"The score of the testing set is\", regressor.score(X_test, y_test))"
   ]
  },
  {
   "cell_type": "code",
   "execution_count": 23,
   "metadata": {},
   "outputs": [],
   "source": [
    "# Predictor\n",
    "y_pred = regressor.predict(X_test)"
   ]
  },
  {
   "cell_type": "code",
   "execution_count": 24,
   "metadata": {},
   "outputs": [
    {
     "name": "stdout",
     "output_type": "stream",
     "text": [
      "[ 1.80102335e+04  1.01426252e+03  1.06429931e+05  8.67421756e+04\n",
      " -4.44478171e+04  4.03154980e+04  4.99821329e+02 -4.65569324e+04\n",
      " -2.02148253e+00  1.76451281e+03  8.31359141e+00  7.26995420e+03\n",
      "  1.12889805e+05  4.45143023e+04]\n",
      "-74849.64945232106\n"
     ]
    }
   ],
   "source": [
    "# Check regressor coefficients\n",
    "coefficients= regressor.coef_\n",
    "print(coefficients)\n",
    "# Check regressor intercept\n",
    "intercept = regressor.intercept_\n",
    "print(intercept)"
   ]
  },
  {
   "cell_type": "code",
   "execution_count": 25,
   "metadata": {},
   "outputs": [
    {
     "name": "stdout",
     "output_type": "stream",
     "text": [
      "[ 9.10506468e+05  6.16573909e+06  2.53602390e+05 -7.48496495e+04\n",
      " -7.48496495e+04  2.53602390e+05  8.13645133e+06  2.53602390e+05\n",
      " -7.48496495e+04  4.09816552e+07  9.51762417e+07  5.82054429e+05\n",
      " -7.48496495e+04 -7.48496495e+04]\n",
      "348651.02003626904\n"
     ]
    },
    {
     "data": {
      "text/html": [
       "<div>\n",
       "<style scoped>\n",
       "    .dataframe tbody tr th:only-of-type {\n",
       "        vertical-align: middle;\n",
       "    }\n",
       "\n",
       "    .dataframe tbody tr th {\n",
       "        vertical-align: top;\n",
       "    }\n",
       "\n",
       "    .dataframe thead th {\n",
       "        text-align: right;\n",
       "    }\n",
       "</style>\n",
       "<table border=\"1\" class=\"dataframe\">\n",
       "  <thead>\n",
       "    <tr style=\"text-align: right;\">\n",
       "      <th></th>\n",
       "      <th>price</th>\n",
       "      <th>number of bedrooms</th>\n",
       "      <th>living area</th>\n",
       "      <th>fully equipped kitchen</th>\n",
       "      <th>furnished</th>\n",
       "      <th>open fire</th>\n",
       "      <th>terrace</th>\n",
       "      <th>terrace area</th>\n",
       "      <th>garden</th>\n",
       "      <th>garden area</th>\n",
       "      <th>total property area</th>\n",
       "      <th>total land area</th>\n",
       "      <th>number of facades</th>\n",
       "      <th>swimming pool</th>\n",
       "      <th>state of the building</th>\n",
       "    </tr>\n",
       "  </thead>\n",
       "  <tbody>\n",
       "    <tr>\n",
       "      <th>0</th>\n",
       "      <td>350000.0</td>\n",
       "      <td>3</td>\n",
       "      <td>0</td>\n",
       "      <td>1.0</td>\n",
       "      <td>0.0</td>\n",
       "      <td>1</td>\n",
       "      <td>1.0</td>\n",
       "      <td>25.0</td>\n",
       "      <td>1.0</td>\n",
       "      <td>0.0</td>\n",
       "      <td>140.0</td>\n",
       "      <td>2590.0</td>\n",
       "      <td>4.0</td>\n",
       "      <td>0</td>\n",
       "      <td>0</td>\n",
       "    </tr>\n",
       "    <tr>\n",
       "      <th>1</th>\n",
       "      <td>389000.0</td>\n",
       "      <td>3</td>\n",
       "      <td>0</td>\n",
       "      <td>1.0</td>\n",
       "      <td>0.0</td>\n",
       "      <td>0</td>\n",
       "      <td>1.0</td>\n",
       "      <td>40.0</td>\n",
       "      <td>1.0</td>\n",
       "      <td>260.0</td>\n",
       "      <td>160.0</td>\n",
       "      <td>570.0</td>\n",
       "      <td>4.0</td>\n",
       "      <td>0</td>\n",
       "      <td>1</td>\n",
       "    </tr>\n",
       "    <tr>\n",
       "      <th>2</th>\n",
       "      <td>389000.0</td>\n",
       "      <td>3</td>\n",
       "      <td>0</td>\n",
       "      <td>1.0</td>\n",
       "      <td>0.0</td>\n",
       "      <td>1</td>\n",
       "      <td>0.0</td>\n",
       "      <td>0.0</td>\n",
       "      <td>0.0</td>\n",
       "      <td>0.0</td>\n",
       "      <td>133.0</td>\n",
       "      <td>347.0</td>\n",
       "      <td>3.0</td>\n",
       "      <td>0</td>\n",
       "      <td>1</td>\n",
       "    </tr>\n",
       "    <tr>\n",
       "      <th>3</th>\n",
       "      <td>389000.0</td>\n",
       "      <td>6</td>\n",
       "      <td>0</td>\n",
       "      <td>1.0</td>\n",
       "      <td>0.0</td>\n",
       "      <td>0</td>\n",
       "      <td>1.0</td>\n",
       "      <td>0.0</td>\n",
       "      <td>1.0</td>\n",
       "      <td>119.0</td>\n",
       "      <td>210.0</td>\n",
       "      <td>220.0</td>\n",
       "      <td>2.0</td>\n",
       "      <td>0</td>\n",
       "      <td>0</td>\n",
       "    </tr>\n",
       "    <tr>\n",
       "      <th>4</th>\n",
       "      <td>389000.0</td>\n",
       "      <td>3</td>\n",
       "      <td>0</td>\n",
       "      <td>1.0</td>\n",
       "      <td>1.0</td>\n",
       "      <td>1</td>\n",
       "      <td>1.0</td>\n",
       "      <td>17.0</td>\n",
       "      <td>0.0</td>\n",
       "      <td>0.0</td>\n",
       "      <td>222.0</td>\n",
       "      <td>111.0</td>\n",
       "      <td>2.0</td>\n",
       "      <td>0</td>\n",
       "      <td>1</td>\n",
       "    </tr>\n",
       "  </tbody>\n",
       "</table>\n",
       "</div>"
      ],
      "text/plain": [
       "      price  number of bedrooms  living area  fully equipped kitchen  \\\n",
       "0  350000.0                   3            0                     1.0   \n",
       "1  389000.0                   3            0                     1.0   \n",
       "2  389000.0                   3            0                     1.0   \n",
       "3  389000.0                   6            0                     1.0   \n",
       "4  389000.0                   3            0                     1.0   \n",
       "\n",
       "   furnished  open fire  terrace  terrace area  garden  garden area  \\\n",
       "0        0.0          1      1.0          25.0     1.0          0.0   \n",
       "1        0.0          0      1.0          40.0     1.0        260.0   \n",
       "2        0.0          1      0.0           0.0     0.0          0.0   \n",
       "3        0.0          0      1.0           0.0     1.0        119.0   \n",
       "4        1.0          1      1.0          17.0     0.0          0.0   \n",
       "\n",
       "   total property area  total land area  number of facades  swimming pool  \\\n",
       "0                140.0           2590.0                4.0              0   \n",
       "1                160.0            570.0                4.0              0   \n",
       "2                133.0            347.0                3.0              0   \n",
       "3                210.0            220.0                2.0              0   \n",
       "4                222.0            111.0                2.0              0   \n",
       "\n",
       "   state of the building  \n",
       "0                      0  \n",
       "1                      1  \n",
       "2                      1  \n",
       "3                      0  \n",
       "4                      1  "
      ]
     },
     "execution_count": 25,
     "metadata": {},
     "output_type": "execute_result"
    }
   ],
   "source": [
    "# Manually create first prediction\n",
    "print((X_test[0])*coefficients.sum()+ intercept)\n",
    "\n",
    "# Check model's first prediction to compare vs. previous output\n",
    "print(y_pred[0])\n",
    "properties.head()"
   ]
  },
  {
   "cell_type": "code",
   "execution_count": 26,
   "metadata": {},
   "outputs": [],
   "source": [
    "# Drop 'living area' from dataframe\n",
    "properties = cleanup.drop_column(properties, 'living area')"
   ]
  },
  {
   "cell_type": "code",
   "execution_count": 27,
   "metadata": {},
   "outputs": [
    {
     "name": "stdout",
     "output_type": "stream",
     "text": [
      "The score of the training set is 0.4998630885729002\n",
      "The score of the testing set is 0.4481283584090615\n"
     ]
    }
   ],
   "source": [
    "# Redo and score the model\n",
    "X = properties.drop(columns=['price']).to_numpy()\n",
    "y = properties['price'].to_numpy()\n",
    "X_train, X_test, y_train, y_test = train_test_split(X, y, test_size=0.2, random_state=133)\n",
    "regressor.fit(X_train, y_train)\n",
    "print(\"The score of the training set is\", regressor.score(X_train, y_train))\n",
    "print(\"The score of the testing set is\", regressor.score(X_test, y_test))"
   ]
  }
 ],
 "metadata": {
  "kernelspec": {
   "display_name": "PropertyAnalysisBE",
   "language": "python",
   "name": "python3"
  },
  "language_info": {
   "codemirror_mode": {
    "name": "ipython",
    "version": 3
   },
   "file_extension": ".py",
   "mimetype": "text/x-python",
   "name": "python",
   "nbconvert_exporter": "python",
   "pygments_lexer": "ipython3",
   "version": "3.11.4"
  },
  "orig_nbformat": 4
 },
 "nbformat": 4,
 "nbformat_minor": 2
}
